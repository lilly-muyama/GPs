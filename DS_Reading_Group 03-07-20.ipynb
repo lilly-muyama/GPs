{
 "cells": [
  {
   "cell_type": "code",
   "execution_count": 1,
   "metadata": {},
   "outputs": [],
   "source": [
    "import gpflow\n",
    "import numpy as np\n",
    "import pandas as pd\n",
    "from matplotlib import pyplot as plt\n",
    "plt.style.use('ggplot')\n",
    "%matplotlib inline"
   ]
  },
  {
   "cell_type": "code",
   "execution_count": 2,
   "metadata": {},
   "outputs": [
    {
     "data": {
      "text/html": [
       "<div>\n",
       "<style scoped>\n",
       "    .dataframe tbody tr th:only-of-type {\n",
       "        vertical-align: middle;\n",
       "    }\n",
       "\n",
       "    .dataframe tbody tr th {\n",
       "        vertical-align: top;\n",
       "    }\n",
       "\n",
       "    .dataframe thead th {\n",
       "        text-align: right;\n",
       "    }\n",
       "</style>\n",
       "<table border=\"1\" class=\"dataframe\">\n",
       "  <thead>\n",
       "    <tr style=\"text-align: right;\">\n",
       "      <th></th>\n",
       "      <th>created_at</th>\n",
       "      <th>temp</th>\n",
       "      <th>rh</th>\n",
       "    </tr>\n",
       "  </thead>\n",
       "  <tbody>\n",
       "    <tr>\n",
       "      <th>0</th>\n",
       "      <td>2018-12-12 17:08:29</td>\n",
       "      <td>NaN</td>\n",
       "      <td>NaN</td>\n",
       "    </tr>\n",
       "    <tr>\n",
       "      <th>1</th>\n",
       "      <td>2018-12-12 17:53:26</td>\n",
       "      <td>24.83</td>\n",
       "      <td>65.35</td>\n",
       "    </tr>\n",
       "    <tr>\n",
       "      <th>2</th>\n",
       "      <td>2018-12-12 17:54:26</td>\n",
       "      <td>24.76</td>\n",
       "      <td>65.78</td>\n",
       "    </tr>\n",
       "    <tr>\n",
       "      <th>3</th>\n",
       "      <td>2018-12-12 17:55:26</td>\n",
       "      <td>24.82</td>\n",
       "      <td>65.96</td>\n",
       "    </tr>\n",
       "    <tr>\n",
       "      <th>4</th>\n",
       "      <td>2018-12-12 17:56:26</td>\n",
       "      <td>24.79</td>\n",
       "      <td>65.96</td>\n",
       "    </tr>\n",
       "  </tbody>\n",
       "</table>\n",
       "</div>"
      ],
      "text/plain": [
       "            created_at   temp     rh\n",
       "0  2018-12-12 17:08:29    NaN    NaN\n",
       "1  2018-12-12 17:53:26  24.83  65.35\n",
       "2  2018-12-12 17:54:26  24.76  65.78\n",
       "3  2018-12-12 17:55:26  24.82  65.96\n",
       "4  2018-12-12 17:56:26  24.79  65.96"
      ]
     },
     "execution_count": 2,
     "metadata": {},
     "output_type": "execute_result"
    }
   ],
   "source": [
    "met_data = pd.read_csv(r'D:\\AirQo\\Nsabagwa_data\\Jinja temp and rh.csv', parse_dates=['created_at'], usecols=['created_at', 'temp', 'rh'])\n",
    "met_data.head()"
   ]
  },
  {
   "cell_type": "code",
   "execution_count": 3,
   "metadata": {},
   "outputs": [],
   "source": [
    "#met_data['created_at'] = pd.to_datetime(met_data['created_at'])"
   ]
  },
  {
   "cell_type": "code",
   "execution_count": 4,
   "metadata": {},
   "outputs": [
    {
     "name": "stderr",
     "output_type": "stream",
     "text": [
      "c:\\users\\user\\anaconda3\\envs\\gaussian_env\\lib\\site-packages\\pandas\\core\\indexing.py:671: SettingWithCopyWarning: \n",
      "A value is trying to be set on a copy of a slice from a DataFrame\n",
      "\n",
      "See the caveats in the documentation: https://pandas.pydata.org/pandas-docs/stable/user_guide/indexing.html#returning-a-view-versus-a-copy\n",
      "  self._setitem_with_indexer(indexer, value)\n"
     ]
    },
    {
     "name": "stdout",
     "output_type": "stream",
     "text": [
      "<class 'pandas.core.frame.DataFrame'>\n",
      "RangeIndex: 170759 entries, 0 to 170758\n",
      "Data columns (total 3 columns):\n",
      " #   Column      Non-Null Count   Dtype  \n",
      "---  ------      --------------   -----  \n",
      " 0   created_at  167522 non-null  object \n",
      " 1   temp        166241 non-null  float64\n",
      " 2   rh          164445 non-null  float64\n",
      "dtypes: float64(2), object(1)\n",
      "memory usage: 3.9+ MB\n"
     ]
    }
   ],
   "source": [
    "#convert to datetime\n",
    "count =0\n",
    "for i in range(met_data.shape[0]):\n",
    "    try:\n",
    "        met_data['created_at'].iloc[i] = pd.to_datetime(met_data['created_at'].iloc[i])\n",
    "    except:\n",
    "        met_data['created_at'].iloc[i] = None\n",
    "        count+=1\n",
    "met_data.info()"
   ]
  },
  {
   "cell_type": "code",
   "execution_count": 5,
   "metadata": {},
   "outputs": [
    {
     "data": {
      "text/plain": [
       "pandas._libs.tslibs.timestamps.Timestamp"
      ]
     },
     "execution_count": 5,
     "metadata": {},
     "output_type": "execute_result"
    }
   ],
   "source": [
    "type(met_data['created_at'].iloc[0])"
   ]
  },
  {
   "cell_type": "code",
   "execution_count": 6,
   "metadata": {},
   "outputs": [
    {
     "data": {
      "text/plain": [
       "created_at    3237\n",
       "temp          4518\n",
       "rh            6314\n",
       "dtype: int64"
      ]
     },
     "execution_count": 6,
     "metadata": {},
     "output_type": "execute_result"
    }
   ],
   "source": [
    "met_data.isna().sum()"
   ]
  },
  {
   "cell_type": "code",
   "execution_count": 7,
   "metadata": {},
   "outputs": [
    {
     "data": {
      "text/plain": [
       "(170759, 3)"
      ]
     },
     "execution_count": 7,
     "metadata": {},
     "output_type": "execute_result"
    }
   ],
   "source": [
    "met_data.shape"
   ]
  },
  {
   "cell_type": "code",
   "execution_count": 8,
   "metadata": {},
   "outputs": [
    {
     "data": {
      "text/plain": [
       "(161133, 3)"
      ]
     },
     "execution_count": 8,
     "metadata": {},
     "output_type": "execute_result"
    }
   ],
   "source": [
    "met_data.dropna(inplace=True)\n",
    "met_data.shape"
   ]
  },
  {
   "cell_type": "code",
   "execution_count": 9,
   "metadata": {},
   "outputs": [
    {
     "data": {
      "text/html": [
       "<div>\n",
       "<style scoped>\n",
       "    .dataframe tbody tr th:only-of-type {\n",
       "        vertical-align: middle;\n",
       "    }\n",
       "\n",
       "    .dataframe tbody tr th {\n",
       "        vertical-align: top;\n",
       "    }\n",
       "\n",
       "    .dataframe thead th {\n",
       "        text-align: right;\n",
       "    }\n",
       "</style>\n",
       "<table border=\"1\" class=\"dataframe\">\n",
       "  <thead>\n",
       "    <tr style=\"text-align: right;\">\n",
       "      <th></th>\n",
       "      <th>created_at</th>\n",
       "      <th>temp</th>\n",
       "      <th>rh</th>\n",
       "    </tr>\n",
       "  </thead>\n",
       "  <tbody>\n",
       "    <tr>\n",
       "      <th>1</th>\n",
       "      <td>2018-12-12 17:53:26+03:00</td>\n",
       "      <td>24.83</td>\n",
       "      <td>65.35</td>\n",
       "    </tr>\n",
       "    <tr>\n",
       "      <th>2</th>\n",
       "      <td>2018-12-12 17:54:26+03:00</td>\n",
       "      <td>24.76</td>\n",
       "      <td>65.78</td>\n",
       "    </tr>\n",
       "    <tr>\n",
       "      <th>3</th>\n",
       "      <td>2018-12-12 17:55:26+03:00</td>\n",
       "      <td>24.82</td>\n",
       "      <td>65.96</td>\n",
       "    </tr>\n",
       "    <tr>\n",
       "      <th>4</th>\n",
       "      <td>2018-12-12 17:56:26+03:00</td>\n",
       "      <td>24.79</td>\n",
       "      <td>65.96</td>\n",
       "    </tr>\n",
       "    <tr>\n",
       "      <th>5</th>\n",
       "      <td>2018-12-12 17:57:26+03:00</td>\n",
       "      <td>24.68</td>\n",
       "      <td>66.50</td>\n",
       "    </tr>\n",
       "  </tbody>\n",
       "</table>\n",
       "</div>"
      ],
      "text/plain": [
       "                 created_at   temp     rh\n",
       "1 2018-12-12 17:53:26+03:00  24.83  65.35\n",
       "2 2018-12-12 17:54:26+03:00  24.76  65.78\n",
       "3 2018-12-12 17:55:26+03:00  24.82  65.96\n",
       "4 2018-12-12 17:56:26+03:00  24.79  65.96\n",
       "5 2018-12-12 17:57:26+03:00  24.68  66.50"
      ]
     },
     "execution_count": 9,
     "metadata": {},
     "output_type": "execute_result"
    }
   ],
   "source": [
    "from datetime import datetime\n",
    "met_data['created_at'] = met_data['created_at'].dt.tz_localize('Africa/Kampala')\n",
    "met_data.head()"
   ]
  },
  {
   "cell_type": "code",
   "execution_count": 10,
   "metadata": {},
   "outputs": [
    {
     "data": {
      "text/html": [
       "<div>\n",
       "<style scoped>\n",
       "    .dataframe tbody tr th:only-of-type {\n",
       "        vertical-align: middle;\n",
       "    }\n",
       "\n",
       "    .dataframe tbody tr th {\n",
       "        vertical-align: top;\n",
       "    }\n",
       "\n",
       "    .dataframe thead th {\n",
       "        text-align: right;\n",
       "    }\n",
       "</style>\n",
       "<table border=\"1\" class=\"dataframe\">\n",
       "  <thead>\n",
       "    <tr style=\"text-align: right;\">\n",
       "      <th></th>\n",
       "      <th>temp</th>\n",
       "      <th>rh</th>\n",
       "    </tr>\n",
       "    <tr>\n",
       "      <th>created_at</th>\n",
       "      <th></th>\n",
       "      <th></th>\n",
       "    </tr>\n",
       "  </thead>\n",
       "  <tbody>\n",
       "    <tr>\n",
       "      <th>2018-12-12 17:53:26+03:00</th>\n",
       "      <td>24.83</td>\n",
       "      <td>65.35</td>\n",
       "    </tr>\n",
       "    <tr>\n",
       "      <th>2018-12-12 17:54:26+03:00</th>\n",
       "      <td>24.76</td>\n",
       "      <td>65.78</td>\n",
       "    </tr>\n",
       "    <tr>\n",
       "      <th>2018-12-12 17:55:26+03:00</th>\n",
       "      <td>24.82</td>\n",
       "      <td>65.96</td>\n",
       "    </tr>\n",
       "    <tr>\n",
       "      <th>2018-12-12 17:56:26+03:00</th>\n",
       "      <td>24.79</td>\n",
       "      <td>65.96</td>\n",
       "    </tr>\n",
       "    <tr>\n",
       "      <th>2018-12-12 17:57:26+03:00</th>\n",
       "      <td>24.68</td>\n",
       "      <td>66.50</td>\n",
       "    </tr>\n",
       "  </tbody>\n",
       "</table>\n",
       "</div>"
      ],
      "text/plain": [
       "                            temp     rh\n",
       "created_at                             \n",
       "2018-12-12 17:53:26+03:00  24.83  65.35\n",
       "2018-12-12 17:54:26+03:00  24.76  65.78\n",
       "2018-12-12 17:55:26+03:00  24.82  65.96\n",
       "2018-12-12 17:56:26+03:00  24.79  65.96\n",
       "2018-12-12 17:57:26+03:00  24.68  66.50"
      ]
     },
     "execution_count": 10,
     "metadata": {},
     "output_type": "execute_result"
    }
   ],
   "source": [
    "met_data.set_index('created_at', inplace=True)\n",
    "met_data.head()"
   ]
  },
  {
   "cell_type": "code",
   "execution_count": 11,
   "metadata": {},
   "outputs": [
    {
     "data": {
      "text/html": [
       "<div>\n",
       "<style scoped>\n",
       "    .dataframe tbody tr th:only-of-type {\n",
       "        vertical-align: middle;\n",
       "    }\n",
       "\n",
       "    .dataframe tbody tr th {\n",
       "        vertical-align: top;\n",
       "    }\n",
       "\n",
       "    .dataframe thead th {\n",
       "        text-align: right;\n",
       "    }\n",
       "</style>\n",
       "<table border=\"1\" class=\"dataframe\">\n",
       "  <thead>\n",
       "    <tr style=\"text-align: right;\">\n",
       "      <th></th>\n",
       "      <th>temp</th>\n",
       "      <th>rh</th>\n",
       "    </tr>\n",
       "    <tr>\n",
       "      <th>created_at</th>\n",
       "      <th></th>\n",
       "      <th></th>\n",
       "    </tr>\n",
       "  </thead>\n",
       "  <tbody>\n",
       "    <tr>\n",
       "      <th>2018-12-12 17:00:00+03:00</th>\n",
       "      <td>24.722857</td>\n",
       "      <td>66.110000</td>\n",
       "    </tr>\n",
       "    <tr>\n",
       "      <th>2018-12-12 18:00:00+03:00</th>\n",
       "      <td>23.796111</td>\n",
       "      <td>70.460556</td>\n",
       "    </tr>\n",
       "    <tr>\n",
       "      <th>2018-12-12 19:00:00+03:00</th>\n",
       "      <td>22.016415</td>\n",
       "      <td>81.835283</td>\n",
       "    </tr>\n",
       "    <tr>\n",
       "      <th>2018-12-12 20:00:00+03:00</th>\n",
       "      <td>21.144038</td>\n",
       "      <td>86.566731</td>\n",
       "    </tr>\n",
       "    <tr>\n",
       "      <th>2018-12-12 21:00:00+03:00</th>\n",
       "      <td>20.555098</td>\n",
       "      <td>90.146078</td>\n",
       "    </tr>\n",
       "  </tbody>\n",
       "</table>\n",
       "</div>"
      ],
      "text/plain": [
       "                                temp         rh\n",
       "created_at                                     \n",
       "2018-12-12 17:00:00+03:00  24.722857  66.110000\n",
       "2018-12-12 18:00:00+03:00  23.796111  70.460556\n",
       "2018-12-12 19:00:00+03:00  22.016415  81.835283\n",
       "2018-12-12 20:00:00+03:00  21.144038  86.566731\n",
       "2018-12-12 21:00:00+03:00  20.555098  90.146078"
      ]
     },
     "execution_count": 11,
     "metadata": {},
     "output_type": "execute_result"
    }
   ],
   "source": [
    "hourly_met_data=met_data.resample('H').mean()\n",
    "hourly_met_data.head()"
   ]
  },
  {
   "cell_type": "markdown",
   "metadata": {},
   "source": [
    "### Air Quality data"
   ]
  },
  {
   "cell_type": "code",
   "execution_count": 12,
   "metadata": {},
   "outputs": [
    {
     "name": "stderr",
     "output_type": "stream",
     "text": [
      "c:\\users\\user\\anaconda3\\envs\\gaussian_env\\lib\\site-packages\\dateutil\\parser\\_parser.py:1218: UnknownTimezoneWarning: tzname EAT identified but not understood.  Pass `tzinfos` argument in order to correctly return a timezone-aware datetime.  In a future version, this will raise an exception.\n",
      "  category=UnknownTimezoneWarning)\n"
     ]
    },
    {
     "data": {
      "text/html": [
       "<div>\n",
       "<style scoped>\n",
       "    .dataframe tbody tr th:only-of-type {\n",
       "        vertical-align: middle;\n",
       "    }\n",
       "\n",
       "    .dataframe tbody tr th {\n",
       "        vertical-align: top;\n",
       "    }\n",
       "\n",
       "    .dataframe thead th {\n",
       "        text-align: right;\n",
       "    }\n",
       "</style>\n",
       "<table border=\"1\" class=\"dataframe\">\n",
       "  <thead>\n",
       "    <tr style=\"text-align: right;\">\n",
       "      <th></th>\n",
       "      <th>created_at</th>\n",
       "      <th>field1</th>\n",
       "      <th>field5</th>\n",
       "      <th>field6</th>\n",
       "    </tr>\n",
       "  </thead>\n",
       "  <tbody>\n",
       "    <tr>\n",
       "      <th>0</th>\n",
       "      <td>2019-01-29 22:38:29</td>\n",
       "      <td>61.38</td>\n",
       "      <td>0.357651</td>\n",
       "      <td>32.584480</td>\n",
       "    </tr>\n",
       "    <tr>\n",
       "      <th>1</th>\n",
       "      <td>2019-01-29 22:39:44</td>\n",
       "      <td>66.13</td>\n",
       "      <td>0.357649</td>\n",
       "      <td>32.584503</td>\n",
       "    </tr>\n",
       "    <tr>\n",
       "      <th>2</th>\n",
       "      <td>2019-01-29 22:42:06</td>\n",
       "      <td>60.47</td>\n",
       "      <td>0.357668</td>\n",
       "      <td>32.584484</td>\n",
       "    </tr>\n",
       "    <tr>\n",
       "      <th>3</th>\n",
       "      <td>2019-01-29 22:43:31</td>\n",
       "      <td>52.30</td>\n",
       "      <td>0.357642</td>\n",
       "      <td>32.584492</td>\n",
       "    </tr>\n",
       "    <tr>\n",
       "      <th>4</th>\n",
       "      <td>2019-01-29 22:46:55</td>\n",
       "      <td>52.47</td>\n",
       "      <td>0.357648</td>\n",
       "      <td>32.584511</td>\n",
       "    </tr>\n",
       "  </tbody>\n",
       "</table>\n",
       "</div>"
      ],
      "text/plain": [
       "           created_at  field1    field5     field6\n",
       "0 2019-01-29 22:38:29   61.38  0.357651  32.584480\n",
       "1 2019-01-29 22:39:44   66.13  0.357649  32.584503\n",
       "2 2019-01-29 22:42:06   60.47  0.357668  32.584484\n",
       "3 2019-01-29 22:43:31   52.30  0.357642  32.584492\n",
       "4 2019-01-29 22:46:55   52.47  0.357648  32.584511"
      ]
     },
     "execution_count": 12,
     "metadata": {},
     "output_type": "execute_result"
    }
   ],
   "source": [
    "aq_data = pd.read_csv(r'D:\\AirQo\\Feeds\\02-09-19\\AQ_23.csv', parse_dates = ['created_at'], usecols=['created_at', 'field1', 'field5', 'field6'])\n",
    "aq_data.head()"
   ]
  },
  {
   "cell_type": "code",
   "execution_count": 14,
   "metadata": {},
   "outputs": [
    {
     "name": "stdout",
     "output_type": "stream",
     "text": [
      "<class 'pandas.core.frame.DataFrame'>\n",
      "RangeIndex: 75027 entries, 0 to 75026\n",
      "Data columns (total 4 columns):\n",
      " #   Column      Non-Null Count  Dtype         \n",
      "---  ------      --------------  -----         \n",
      " 0   created_at  75027 non-null  datetime64[ns]\n",
      " 1   field1      75027 non-null  float64       \n",
      " 2   field5      75027 non-null  float64       \n",
      " 3   field6      75027 non-null  float64       \n",
      "dtypes: datetime64[ns](1), float64(3)\n",
      "memory usage: 2.3 MB\n"
     ]
    }
   ],
   "source": [
    "aq_data.info()"
   ]
  },
  {
   "cell_type": "code",
   "execution_count": 15,
   "metadata": {},
   "outputs": [
    {
     "data": {
      "text/html": [
       "<div>\n",
       "<style scoped>\n",
       "    .dataframe tbody tr th:only-of-type {\n",
       "        vertical-align: middle;\n",
       "    }\n",
       "\n",
       "    .dataframe tbody tr th {\n",
       "        vertical-align: top;\n",
       "    }\n",
       "\n",
       "    .dataframe thead th {\n",
       "        text-align: right;\n",
       "    }\n",
       "</style>\n",
       "<table border=\"1\" class=\"dataframe\">\n",
       "  <thead>\n",
       "    <tr style=\"text-align: right;\">\n",
       "      <th></th>\n",
       "      <th>created_at</th>\n",
       "      <th>field1</th>\n",
       "      <th>field5</th>\n",
       "      <th>field6</th>\n",
       "    </tr>\n",
       "  </thead>\n",
       "  <tbody>\n",
       "    <tr>\n",
       "      <th>0</th>\n",
       "      <td>2019-01-29 22:38:29+03:00</td>\n",
       "      <td>61.38</td>\n",
       "      <td>0.357651</td>\n",
       "      <td>32.584480</td>\n",
       "    </tr>\n",
       "    <tr>\n",
       "      <th>1</th>\n",
       "      <td>2019-01-29 22:39:44+03:00</td>\n",
       "      <td>66.13</td>\n",
       "      <td>0.357649</td>\n",
       "      <td>32.584503</td>\n",
       "    </tr>\n",
       "    <tr>\n",
       "      <th>2</th>\n",
       "      <td>2019-01-29 22:42:06+03:00</td>\n",
       "      <td>60.47</td>\n",
       "      <td>0.357668</td>\n",
       "      <td>32.584484</td>\n",
       "    </tr>\n",
       "    <tr>\n",
       "      <th>3</th>\n",
       "      <td>2019-01-29 22:43:31+03:00</td>\n",
       "      <td>52.30</td>\n",
       "      <td>0.357642</td>\n",
       "      <td>32.584492</td>\n",
       "    </tr>\n",
       "    <tr>\n",
       "      <th>4</th>\n",
       "      <td>2019-01-29 22:46:55+03:00</td>\n",
       "      <td>52.47</td>\n",
       "      <td>0.357648</td>\n",
       "      <td>32.584511</td>\n",
       "    </tr>\n",
       "  </tbody>\n",
       "</table>\n",
       "</div>"
      ],
      "text/plain": [
       "                 created_at  field1    field5     field6\n",
       "0 2019-01-29 22:38:29+03:00   61.38  0.357651  32.584480\n",
       "1 2019-01-29 22:39:44+03:00   66.13  0.357649  32.584503\n",
       "2 2019-01-29 22:42:06+03:00   60.47  0.357668  32.584484\n",
       "3 2019-01-29 22:43:31+03:00   52.30  0.357642  32.584492\n",
       "4 2019-01-29 22:46:55+03:00   52.47  0.357648  32.584511"
      ]
     },
     "execution_count": 15,
     "metadata": {},
     "output_type": "execute_result"
    }
   ],
   "source": [
    "aq_data['created_at'] = aq_data['created_at'].dt.tz_localize('Africa/Kampala')\n",
    "aq_data.head()"
   ]
  },
  {
   "cell_type": "code",
   "execution_count": 16,
   "metadata": {},
   "outputs": [
    {
     "data": {
      "text/html": [
       "<div>\n",
       "<style scoped>\n",
       "    .dataframe tbody tr th:only-of-type {\n",
       "        vertical-align: middle;\n",
       "    }\n",
       "\n",
       "    .dataframe tbody tr th {\n",
       "        vertical-align: top;\n",
       "    }\n",
       "\n",
       "    .dataframe thead th {\n",
       "        text-align: right;\n",
       "    }\n",
       "</style>\n",
       "<table border=\"1\" class=\"dataframe\">\n",
       "  <thead>\n",
       "    <tr style=\"text-align: right;\">\n",
       "      <th></th>\n",
       "      <th>field1</th>\n",
       "      <th>field5</th>\n",
       "      <th>field6</th>\n",
       "    </tr>\n",
       "    <tr>\n",
       "      <th>created_at</th>\n",
       "      <th></th>\n",
       "      <th></th>\n",
       "      <th></th>\n",
       "    </tr>\n",
       "  </thead>\n",
       "  <tbody>\n",
       "    <tr>\n",
       "      <th>2019-01-29 22:38:29+03:00</th>\n",
       "      <td>61.38</td>\n",
       "      <td>0.357651</td>\n",
       "      <td>32.584480</td>\n",
       "    </tr>\n",
       "    <tr>\n",
       "      <th>2019-01-29 22:39:44+03:00</th>\n",
       "      <td>66.13</td>\n",
       "      <td>0.357649</td>\n",
       "      <td>32.584503</td>\n",
       "    </tr>\n",
       "    <tr>\n",
       "      <th>2019-01-29 22:42:06+03:00</th>\n",
       "      <td>60.47</td>\n",
       "      <td>0.357668</td>\n",
       "      <td>32.584484</td>\n",
       "    </tr>\n",
       "    <tr>\n",
       "      <th>2019-01-29 22:43:31+03:00</th>\n",
       "      <td>52.30</td>\n",
       "      <td>0.357642</td>\n",
       "      <td>32.584492</td>\n",
       "    </tr>\n",
       "    <tr>\n",
       "      <th>2019-01-29 22:46:55+03:00</th>\n",
       "      <td>52.47</td>\n",
       "      <td>0.357648</td>\n",
       "      <td>32.584511</td>\n",
       "    </tr>\n",
       "  </tbody>\n",
       "</table>\n",
       "</div>"
      ],
      "text/plain": [
       "                           field1    field5     field6\n",
       "created_at                                            \n",
       "2019-01-29 22:38:29+03:00   61.38  0.357651  32.584480\n",
       "2019-01-29 22:39:44+03:00   66.13  0.357649  32.584503\n",
       "2019-01-29 22:42:06+03:00   60.47  0.357668  32.584484\n",
       "2019-01-29 22:43:31+03:00   52.30  0.357642  32.584492\n",
       "2019-01-29 22:46:55+03:00   52.47  0.357648  32.584511"
      ]
     },
     "execution_count": 16,
     "metadata": {},
     "output_type": "execute_result"
    }
   ],
   "source": [
    "aq_data.set_index('created_at', inplace=True)\n",
    "aq_data.head()"
   ]
  },
  {
   "cell_type": "code",
   "execution_count": 17,
   "metadata": {},
   "outputs": [
    {
     "data": {
      "text/html": [
       "<div>\n",
       "<style scoped>\n",
       "    .dataframe tbody tr th:only-of-type {\n",
       "        vertical-align: middle;\n",
       "    }\n",
       "\n",
       "    .dataframe tbody tr th {\n",
       "        vertical-align: top;\n",
       "    }\n",
       "\n",
       "    .dataframe thead th {\n",
       "        text-align: right;\n",
       "    }\n",
       "</style>\n",
       "<table border=\"1\" class=\"dataframe\">\n",
       "  <thead>\n",
       "    <tr style=\"text-align: right;\">\n",
       "      <th></th>\n",
       "      <th>field1</th>\n",
       "      <th>field5</th>\n",
       "      <th>field6</th>\n",
       "    </tr>\n",
       "    <tr>\n",
       "      <th>created_at</th>\n",
       "      <th></th>\n",
       "      <th></th>\n",
       "      <th></th>\n",
       "    </tr>\n",
       "  </thead>\n",
       "  <tbody>\n",
       "    <tr>\n",
       "      <th>2019-01-29 22:00:00+03:00</th>\n",
       "      <td>62.519091</td>\n",
       "      <td>0.357667</td>\n",
       "      <td>32.584482</td>\n",
       "    </tr>\n",
       "    <tr>\n",
       "      <th>2019-01-29 23:00:00+03:00</th>\n",
       "      <td>65.356304</td>\n",
       "      <td>0.357683</td>\n",
       "      <td>32.584476</td>\n",
       "    </tr>\n",
       "    <tr>\n",
       "      <th>2019-01-30 00:00:00+03:00</th>\n",
       "      <td>60.043333</td>\n",
       "      <td>0.357663</td>\n",
       "      <td>32.584441</td>\n",
       "    </tr>\n",
       "    <tr>\n",
       "      <th>2019-01-30 01:00:00+03:00</th>\n",
       "      <td>60.221429</td>\n",
       "      <td>0.357671</td>\n",
       "      <td>32.584497</td>\n",
       "    </tr>\n",
       "    <tr>\n",
       "      <th>2019-01-30 02:00:00+03:00</th>\n",
       "      <td>52.700000</td>\n",
       "      <td>0.357658</td>\n",
       "      <td>32.584465</td>\n",
       "    </tr>\n",
       "  </tbody>\n",
       "</table>\n",
       "</div>"
      ],
      "text/plain": [
       "                              field1    field5     field6\n",
       "created_at                                               \n",
       "2019-01-29 22:00:00+03:00  62.519091  0.357667  32.584482\n",
       "2019-01-29 23:00:00+03:00  65.356304  0.357683  32.584476\n",
       "2019-01-30 00:00:00+03:00  60.043333  0.357663  32.584441\n",
       "2019-01-30 01:00:00+03:00  60.221429  0.357671  32.584497\n",
       "2019-01-30 02:00:00+03:00  52.700000  0.357658  32.584465"
      ]
     },
     "execution_count": 17,
     "metadata": {},
     "output_type": "execute_result"
    }
   ],
   "source": [
    "hourly_aq_data=aq_data.resample('H').mean()\n",
    "hourly_aq_data.head()"
   ]
  },
  {
   "cell_type": "code",
   "execution_count": 18,
   "metadata": {},
   "outputs": [
    {
     "data": {
      "text/html": [
       "<div>\n",
       "<style scoped>\n",
       "    .dataframe tbody tr th:only-of-type {\n",
       "        vertical-align: middle;\n",
       "    }\n",
       "\n",
       "    .dataframe tbody tr th {\n",
       "        vertical-align: top;\n",
       "    }\n",
       "\n",
       "    .dataframe thead th {\n",
       "        text-align: right;\n",
       "    }\n",
       "</style>\n",
       "<table border=\"1\" class=\"dataframe\">\n",
       "  <thead>\n",
       "    <tr style=\"text-align: right;\">\n",
       "      <th></th>\n",
       "      <th>pm25</th>\n",
       "      <th>lat</th>\n",
       "      <th>long</th>\n",
       "    </tr>\n",
       "    <tr>\n",
       "      <th>created_at</th>\n",
       "      <th></th>\n",
       "      <th></th>\n",
       "      <th></th>\n",
       "    </tr>\n",
       "  </thead>\n",
       "  <tbody>\n",
       "    <tr>\n",
       "      <th>2019-01-29 22:00:00+03:00</th>\n",
       "      <td>62.519091</td>\n",
       "      <td>0.357667</td>\n",
       "      <td>32.584482</td>\n",
       "    </tr>\n",
       "    <tr>\n",
       "      <th>2019-01-29 23:00:00+03:00</th>\n",
       "      <td>65.356304</td>\n",
       "      <td>0.357683</td>\n",
       "      <td>32.584476</td>\n",
       "    </tr>\n",
       "    <tr>\n",
       "      <th>2019-01-30 00:00:00+03:00</th>\n",
       "      <td>60.043333</td>\n",
       "      <td>0.357663</td>\n",
       "      <td>32.584441</td>\n",
       "    </tr>\n",
       "    <tr>\n",
       "      <th>2019-01-30 01:00:00+03:00</th>\n",
       "      <td>60.221429</td>\n",
       "      <td>0.357671</td>\n",
       "      <td>32.584497</td>\n",
       "    </tr>\n",
       "    <tr>\n",
       "      <th>2019-01-30 02:00:00+03:00</th>\n",
       "      <td>52.700000</td>\n",
       "      <td>0.357658</td>\n",
       "      <td>32.584465</td>\n",
       "    </tr>\n",
       "  </tbody>\n",
       "</table>\n",
       "</div>"
      ],
      "text/plain": [
       "                                pm25       lat       long\n",
       "created_at                                               \n",
       "2019-01-29 22:00:00+03:00  62.519091  0.357667  32.584482\n",
       "2019-01-29 23:00:00+03:00  65.356304  0.357683  32.584476\n",
       "2019-01-30 00:00:00+03:00  60.043333  0.357663  32.584441\n",
       "2019-01-30 01:00:00+03:00  60.221429  0.357671  32.584497\n",
       "2019-01-30 02:00:00+03:00  52.700000  0.357658  32.584465"
      ]
     },
     "execution_count": 18,
     "metadata": {},
     "output_type": "execute_result"
    }
   ],
   "source": [
    "hourly_aq_data.columns = ['pm25', 'lat', 'long']\n",
    "hourly_aq_data.head()"
   ]
  },
  {
   "cell_type": "markdown",
   "metadata": {},
   "source": [
    "### Combining into one df"
   ]
  },
  {
   "cell_type": "code",
   "execution_count": 19,
   "metadata": {},
   "outputs": [],
   "source": [
    "def merge_dfs(df_list):\n",
    "    '''\n",
    "    Merges several dataframes into one based on the index\n",
    "    '''\n",
    "    from functools import reduce\n",
    "    final_df = reduce(lambda left,right: pd.merge(left,right,on='created_at'), df_list)\n",
    "    return final_df"
   ]
  },
  {
   "cell_type": "code",
   "execution_count": 20,
   "metadata": {},
   "outputs": [
    {
     "data": {
      "text/plain": [
       "pm25    62.519091\n",
       "lat      0.357667\n",
       "long    32.584482\n",
       "Name: 2019-01-29 22:00:00+03:00, dtype: float64"
      ]
     },
     "execution_count": 20,
     "metadata": {},
     "output_type": "execute_result"
    }
   ],
   "source": [
    "hourly_aq_data.loc['2019-01-29 22:00:00+03:00']"
   ]
  },
  {
   "cell_type": "code",
   "execution_count": 21,
   "metadata": {},
   "outputs": [
    {
     "data": {
      "text/html": [
       "<div>\n",
       "<style scoped>\n",
       "    .dataframe tbody tr th:only-of-type {\n",
       "        vertical-align: middle;\n",
       "    }\n",
       "\n",
       "    .dataframe tbody tr th {\n",
       "        vertical-align: top;\n",
       "    }\n",
       "\n",
       "    .dataframe thead th {\n",
       "        text-align: right;\n",
       "    }\n",
       "</style>\n",
       "<table border=\"1\" class=\"dataframe\">\n",
       "  <thead>\n",
       "    <tr style=\"text-align: right;\">\n",
       "      <th></th>\n",
       "      <th>pm25</th>\n",
       "      <th>lat</th>\n",
       "      <th>long</th>\n",
       "      <th>temp</th>\n",
       "      <th>rh</th>\n",
       "    </tr>\n",
       "    <tr>\n",
       "      <th>created_at</th>\n",
       "      <th></th>\n",
       "      <th></th>\n",
       "      <th></th>\n",
       "      <th></th>\n",
       "      <th></th>\n",
       "    </tr>\n",
       "  </thead>\n",
       "  <tbody>\n",
       "    <tr>\n",
       "      <th>2019-01-29 22:00:00+03:00</th>\n",
       "      <td>62.519091</td>\n",
       "      <td>0.357667</td>\n",
       "      <td>32.584482</td>\n",
       "      <td>22.447692</td>\n",
       "      <td>85.615577</td>\n",
       "    </tr>\n",
       "    <tr>\n",
       "      <th>2019-01-29 23:00:00+03:00</th>\n",
       "      <td>65.356304</td>\n",
       "      <td>0.357683</td>\n",
       "      <td>32.584476</td>\n",
       "      <td>21.425091</td>\n",
       "      <td>89.715273</td>\n",
       "    </tr>\n",
       "    <tr>\n",
       "      <th>2019-01-30 00:00:00+03:00</th>\n",
       "      <td>60.043333</td>\n",
       "      <td>0.357663</td>\n",
       "      <td>32.584441</td>\n",
       "      <td>20.848200</td>\n",
       "      <td>92.207200</td>\n",
       "    </tr>\n",
       "    <tr>\n",
       "      <th>2019-01-30 01:00:00+03:00</th>\n",
       "      <td>60.221429</td>\n",
       "      <td>0.357671</td>\n",
       "      <td>32.584497</td>\n",
       "      <td>19.884444</td>\n",
       "      <td>95.231481</td>\n",
       "    </tr>\n",
       "    <tr>\n",
       "      <th>2019-01-30 02:00:00+03:00</th>\n",
       "      <td>52.700000</td>\n",
       "      <td>0.357658</td>\n",
       "      <td>32.584465</td>\n",
       "      <td>18.910204</td>\n",
       "      <td>97.522041</td>\n",
       "    </tr>\n",
       "  </tbody>\n",
       "</table>\n",
       "</div>"
      ],
      "text/plain": [
       "                                pm25       lat       long       temp  \\\n",
       "created_at                                                             \n",
       "2019-01-29 22:00:00+03:00  62.519091  0.357667  32.584482  22.447692   \n",
       "2019-01-29 23:00:00+03:00  65.356304  0.357683  32.584476  21.425091   \n",
       "2019-01-30 00:00:00+03:00  60.043333  0.357663  32.584441  20.848200   \n",
       "2019-01-30 01:00:00+03:00  60.221429  0.357671  32.584497  19.884444   \n",
       "2019-01-30 02:00:00+03:00  52.700000  0.357658  32.584465  18.910204   \n",
       "\n",
       "                                  rh  \n",
       "created_at                            \n",
       "2019-01-29 22:00:00+03:00  85.615577  \n",
       "2019-01-29 23:00:00+03:00  89.715273  \n",
       "2019-01-30 00:00:00+03:00  92.207200  \n",
       "2019-01-30 01:00:00+03:00  95.231481  \n",
       "2019-01-30 02:00:00+03:00  97.522041  "
      ]
     },
     "execution_count": 21,
     "metadata": {},
     "output_type": "execute_result"
    }
   ],
   "source": [
    "merged_data = merge_dfs([hourly_aq_data, hourly_met_data ])\n",
    "merged_data.head()"
   ]
  },
  {
   "cell_type": "code",
   "execution_count": 22,
   "metadata": {},
   "outputs": [
    {
     "data": {
      "text/plain": [
       "(5180, 5)"
      ]
     },
     "execution_count": 22,
     "metadata": {},
     "output_type": "execute_result"
    }
   ],
   "source": [
    "merged_data.shape"
   ]
  },
  {
   "cell_type": "code",
   "execution_count": 23,
   "metadata": {},
   "outputs": [
    {
     "data": {
      "text/plain": [
       "pm25    1604\n",
       "lat     1604\n",
       "long    1604\n",
       "temp    1238\n",
       "rh      1238\n",
       "dtype: int64"
      ]
     },
     "execution_count": 23,
     "metadata": {},
     "output_type": "execute_result"
    }
   ],
   "source": [
    "merged_data.isna().sum()"
   ]
  },
  {
   "cell_type": "code",
   "execution_count": 24,
   "metadata": {},
   "outputs": [
    {
     "data": {
      "text/plain": [
       "pm25    0\n",
       "lat     0\n",
       "long    0\n",
       "temp    0\n",
       "rh      0\n",
       "dtype: int64"
      ]
     },
     "execution_count": 24,
     "metadata": {},
     "output_type": "execute_result"
    }
   ],
   "source": [
    "merged_data.dropna(inplace=True)\n",
    "merged_data.isna().sum()"
   ]
  },
  {
   "cell_type": "markdown",
   "metadata": {},
   "source": [
    "### GP Datasets"
   ]
  },
  {
   "cell_type": "code",
   "execution_count": 25,
   "metadata": {},
   "outputs": [
    {
     "data": {
      "text/plain": [
       "array([[62.51909091,  0.35766736, 32.58448164, 22.44769231, 85.61557692]])"
      ]
     },
     "execution_count": 25,
     "metadata": {},
     "output_type": "execute_result"
    }
   ],
   "source": [
    "merged_np_data = merged_data.to_numpy()\n",
    "merged_np_data[:1, :]"
   ]
  },
  {
   "cell_type": "code",
   "execution_count": 26,
   "metadata": {},
   "outputs": [
    {
     "data": {
      "text/plain": [
       "array([62.51909091, 65.35630435, 60.04333333, ..., 29.64511111,\n",
       "       33.40022222, 36.62227273])"
      ]
     },
     "execution_count": 26,
     "metadata": {},
     "output_type": "execute_result"
    }
   ],
   "source": [
    "Y= merged_np_data[:, 0]\n",
    "Y"
   ]
  },
  {
   "cell_type": "code",
   "execution_count": 27,
   "metadata": {},
   "outputs": [
    {
     "data": {
      "text/plain": [
       "array([[ 0.35766736, 32.58448164, 22.44769231, 85.61557692],\n",
       "       [ 0.35768322, 32.5844755 , 21.42509091, 89.71527273],\n",
       "       [ 0.35766333, 32.584441  , 20.8482    , 92.2072    ],\n",
       "       ...,\n",
       "       [ 0.43077229, 33.2105362 , 28.20153846, 63.49730769],\n",
       "       [ 0.43078309, 33.21048002, 25.70222222, 69.70222222],\n",
       "       [ 0.43080409, 33.21049773, 23.16533333, 80.684     ]])"
      ]
     },
     "execution_count": 27,
     "metadata": {},
     "output_type": "execute_result"
    }
   ],
   "source": [
    "X = merged_np_data[:, 1:5]\n",
    "X"
   ]
  },
  {
   "cell_type": "code",
   "execution_count": 28,
   "metadata": {},
   "outputs": [
    {
     "data": {
      "image/png": "[encoded data removed]",
      "text/plain": [
       "<Figure size 432x288 with 1 Axes>"
      ]
     },
     "metadata": {
      "needs_background": "light"
     },
     "output_type": "display_data"
    }
   ],
   "source": [
    "_ = plt.plot(X, Y, \"kx\", mew=2)"
   ]
  },
  {
   "cell_type": "code",
   "execution_count": 29,
   "metadata": {},
   "outputs": [],
   "source": [
    "Xtraining = X[:4145, :]\n",
    "Xtest = X[4145:, :]\n",
    "Ytraining = Y[:4145]\n",
    "Ytest = Y[4145:]\n",
    "\n",
    "Xtraining1 = X[:300, :]\n",
    "Xtest1 = X[300:400, :]\n",
    "Ytraining1=Y[:300]\n",
    "Ytest1=Y[300:400]\n",
    "\n",
    "Xtraining2 = X[:10, :]\n",
    "Xtest2 = X[10:20, :]\n",
    "Ytraining2 = Y[:10]\n",
    "Ytest2 = Y[10:20]"
   ]
  },
  {
   "cell_type": "code",
   "execution_count": 30,
   "metadata": {},
   "outputs": [
    {
     "name": "stdout",
     "output_type": "stream",
     "text": [
      "False\n",
      "True\n"
     ]
    }
   ],
   "source": [
    "print(np.any(np.isnan(Xtraining))) #and gets False\n",
    "print(np.all(np.isfinite(Xtraining))) #and gets True"
   ]
  },
  {
   "cell_type": "markdown",
   "metadata": {},
   "source": [
    "### Scikit-learn GP Model"
   ]
  },
  {
   "cell_type": "code",
   "execution_count": 31,
   "metadata": {},
   "outputs": [],
   "source": [
    "from sklearn.gaussian_process.kernels import ConstantKernel, RBF\n",
    "from sklearn.gaussian_process.kernels import DotProduct, WhiteKernel"
   ]
  },
  {
   "cell_type": "code",
   "execution_count": 32,
   "metadata": {},
   "outputs": [],
   "source": [
    "kernel = ConstantKernel(constant_value=1.0, constant_value_bounds=(0.0, 10.0)) * RBF(length_scale=0.5, length_scale_bounds=(0.0, 10.0)) + RBF(length_scale=2.0, length_scale_bounds=(0.0, 10.0))\n",
    "#kernel = DotProduct() + WhiteKernel()"
   ]
  },
  {
   "cell_type": "code",
   "execution_count": 33,
   "metadata": {},
   "outputs": [
    {
     "name": "stderr",
     "output_type": "stream",
     "text": [
      "c:\\users\\user\\anaconda3\\envs\\gaussian_env\\lib\\site-packages\\sklearn\\gaussian_process\\kernels.py:301: RuntimeWarning: divide by zero encountered in log\n",
      "  return np.log(np.vstack(bounds))\n"
     ]
    }
   ],
   "source": [
    "from sklearn.gaussian_process import GaussianProcessRegressor\n",
    "gpr = GaussianProcessRegressor(kernel=kernel, random_state=0).fit(Xtraining1, Ytraining1)"
   ]
  },
  {
   "cell_type": "code",
   "execution_count": 34,
   "metadata": {},
   "outputs": [
    {
     "data": {
      "text/plain": [
       "-0.0037580107065422474"
      ]
     },
     "execution_count": 34,
     "metadata": {},
     "output_type": "execute_result"
    }
   ],
   "source": [
    "gpr.score(Xtraining, Ytraining)"
   ]
  },
  {
   "cell_type": "code",
   "execution_count": 35,
   "metadata": {},
   "outputs": [],
   "source": [
    "sk_predictions = gpr.predict(Xtest1, return_std=True)"
   ]
  },
  {
   "cell_type": "code",
   "execution_count": 36,
   "metadata": {},
   "outputs": [
    {
     "data": {
      "text/plain": [
       "(array([40.87835556, 34.95096586, 32.63740219, 29.46933702, 24.81667836,\n",
       "        22.15471216, 14.3942628 , 11.7487226 , 22.74000761, 19.07776495,\n",
       "        20.87135178, 24.35439245, 25.64679741, 32.29072445, 34.91754264,\n",
       "        36.86472343, 40.58694702, 40.45928747, 41.42286658, 42.32685629,\n",
       "        45.06475065, 45.79116087, 46.00781223, 56.08095125, 45.24181435,\n",
       "        46.03137159, 43.90604491, 42.93443468, 42.11102171, 30.8420558 ,\n",
       "        28.5994138 , 21.61351455, 19.85244775, 23.7803079 , 40.09511094,\n",
       "        38.98594838, 43.28292413, 42.71997822, 43.09758766, 42.00688948,\n",
       "        46.00568715, 45.46956583, 43.16215207, 41.28828464, 38.79194393,\n",
       "        35.99946603, 34.45225228, 33.16389084, 33.1580696 , 34.94886531,\n",
       "        45.32363381, 33.39269921, 22.68746303, 25.18384638, 23.70513349,\n",
       "        28.64587577, 41.36207729, 37.20563912, 35.54308011, 36.20248333,\n",
       "        37.9888888 , 43.3275249 , 44.30164806, 43.40371673, 36.57690174,\n",
       "        43.21091759, 32.94685419, 29.90660388, 26.80775103, 27.54659409,\n",
       "        25.61106981, 25.64719532, 46.0661051 , 46.65979539, 44.87253198,\n",
       "        52.54152462, 44.22878798, 43.64088764, 41.4618925 , 39.17670304,\n",
       "        38.3290615 , 35.9735384 , 42.10766009, 47.71843742, 35.45356915,\n",
       "        45.98463142, 32.77260978, 36.22561344, 33.65482104, 28.15221048,\n",
       "        27.06116955, 17.96517149, 19.00920613, 22.36081281, 34.87027103,\n",
       "        34.74822745, 37.3301703 , 39.65774751, 41.15392895, 45.09574932]),\n",
       " array([3.18308113, 3.18941545, 3.19071653, 3.18531377, 3.19889271,\n",
       "        3.20887842, 3.23841679, 3.25290298, 3.2075853 , 3.21896224,\n",
       "        3.21356063, 3.20270866, 3.19814471, 3.18593941, 3.18713752,\n",
       "        3.18419612, 3.18060819, 3.17464359, 3.1848256 , 3.18552761,\n",
       "        3.18335981, 3.18111576, 3.18084554, 3.06603962, 3.18095321,\n",
       "        3.17922929, 3.17886554, 3.17952564, 3.17947646, 3.18399384,\n",
       "        3.18624288, 3.21079089, 3.21686949, 3.20283489, 3.18212105,\n",
       "        3.1822738 , 3.17904336, 3.17923677, 3.1793658 , 3.17989786,\n",
       "        3.18056649, 3.18088986, 3.18357071, 3.1864211 , 3.19035703,\n",
       "        3.19572898, 3.19980428, 3.2036373 , 3.20331551, 3.19861439,\n",
       "        3.18058661, 3.18621099, 3.20738195, 3.19710028, 3.20310976,\n",
       "        3.18691366, 3.17990596, 3.18428661, 3.1864132 , 3.18513339,\n",
       "        3.18294353, 3.18026924, 3.18424816, 3.10260394, 3.19515672,\n",
       "        3.18814388, 3.18567602, 3.18709041, 3.19283131, 3.18934199,\n",
       "        3.19612673, 3.19593301, 3.17931025, 3.1767472 , 3.17886692,\n",
       "        3.13098192, 3.18333742, 3.18426866, 3.18534336, 3.18920373,\n",
       "        3.19074326, 3.19581147, 3.18409326, 2.96629546, 3.1968474 ,\n",
       "        3.18097679, 0.85587426, 3.18507032, 3.18778446, 3.18798156,\n",
       "        3.19037601, 3.22327535, 3.21965929, 3.20829526, 3.18624019,\n",
       "        3.18642195, 3.18358247, 3.1810286 , 3.17984437, 3.17877959]))"
      ]
     },
     "execution_count": 36,
     "metadata": {},
     "output_type": "execute_result"
    }
   ],
   "source": [
    "sk_predictions"
   ]
  },
  {
   "cell_type": "code",
   "execution_count": 37,
   "metadata": {},
   "outputs": [
    {
     "data": {
      "text/plain": [
       "array([44.18882353, 32.34307692, 44.6896    , 35.7192    , 48.16258065,\n",
       "       39.08571429, 33.24125   , 36.67222222, 32.75636364, 29.954     ,\n",
       "       33.01785714, 30.48590909, 34.10875   , 35.31041667, 30.75545455,\n",
       "       26.44464286, 33.17105263, 25.63317073, 22.58      , 17.60521739,\n",
       "       27.97230769, 40.36272727, 38.56375   , 59.56368421, 73.834     ,\n",
       "       66.09304348, 65.9568    , 57.99411765, 47.04363636, 47.17      ,\n",
       "       41.73142857, 36.57857143, 36.39235294, 40.76238095, 45.64      ,\n",
       "       93.03869565, 55.6815    , 37.3675    , 37.91666667, 27.75178571,\n",
       "       29.1984    , 46.14208333, 48.0908    , 52.24346154, 50.2812    ,\n",
       "       48.73269231, 59.3472    , 54.29911765, 79.92869565, 95.75074074,\n",
       "       80.746     , 53.66625   , 40.365     , 43.454     , 42.385     ,\n",
       "       45.69      , 45.83142857, 43.55222222, 36.91263158, 40.21833333,\n",
       "       56.18347826, 62.62681818, 58.71      , 51.54307692, 82.92466667,\n",
       "       40.22461538, 35.2362963 , 29.235     , 28.26388889, 28.18833333,\n",
       "       28.70772727, 34.49125   , 43.679375  , 36.5147619 , 26.7928    ,\n",
       "       35.01944444, 39.89575758, 43.7792    , 42.432     , 41.6125    ,\n",
       "       50.12333333, 35.94      , 48.6448    , 37.90481481, 38.98214286,\n",
       "       41.03      , 53.93782609, 37.4925    , 29.126     , 28.50272727,\n",
       "       23.511     , 23.16363636, 30.82      , 33.17571429, 36.41692308,\n",
       "       39.91      , 45.14916667, 41.56136364, 39.82478261, 32.71384615])"
      ]
     },
     "execution_count": 37,
     "metadata": {},
     "output_type": "execute_result"
    }
   ],
   "source": [
    "Ytest1"
   ]
  },
  {
   "cell_type": "code",
   "execution_count": 38,
   "metadata": {},
   "outputs": [],
   "source": [
    "from sklearn.metrics import mean_squared_error\n",
    "from math import sqrt"
   ]
  },
  {
   "cell_type": "code",
   "execution_count": 39,
   "metadata": {},
   "outputs": [
    {
     "data": {
      "text/plain": [
       "16.37948801167334"
      ]
     },
     "execution_count": 39,
     "metadata": {},
     "output_type": "execute_result"
    }
   ],
   "source": [
    "my_rmse = sqrt(mean_squared_error(Ytest1, sk_predictions[0]))\n",
    "my_rmse"
   ]
  },
  {
   "cell_type": "code",
   "execution_count": 40,
   "metadata": {},
   "outputs": [
    {
     "data": {
      "text/plain": [
       "(300,)"
      ]
     },
     "execution_count": 40,
     "metadata": {},
     "output_type": "execute_result"
    }
   ],
   "source": [
    "Ytraining1.shape"
   ]
  },
  {
   "cell_type": "markdown",
   "metadata": {},
   "source": [
    "### GPfLow"
   ]
  },
  {
   "cell_type": "code",
   "execution_count": 42,
   "metadata": {},
   "outputs": [],
   "source": [
    "#k = gpflow.kernels.RBF(lengthscales=[0.05, 0.05, 5.]) + gpflow.kernels.Bias()\n",
    "k = gpflow.kernels.RBF()+ gpflow.kernels.Bias()\n",
    "m = gpflow.models.GPR(data=(Xtraining1, Ytraining1), kernel=k, mean_function=None)"
   ]
  },
  {
   "cell_type": "code",
   "execution_count": 43,
   "metadata": {},
   "outputs": [],
   "source": [
    "mean, var = m.predict_y(Xtest1)\n",
    "mean2, var2 = m.predict_f(Xtest1)"
   ]
  },
  {
   "cell_type": "code",
   "execution_count": 44,
   "metadata": {},
   "outputs": [
    {
     "data": {
      "text/plain": [
       "TensorShape([100, 300])"
      ]
     },
     "execution_count": 44,
     "metadata": {},
     "output_type": "execute_result"
    }
   ],
   "source": [
    "var.shape"
   ]
  },
  {
   "cell_type": "code",
   "execution_count": 45,
   "metadata": {},
   "outputs": [
    {
     "name": "stdout",
     "output_type": "stream",
     "text": [
      "tf.Tensor(\n",
      "[[62.3117977  65.13960385 59.84424894 ... 35.66183963 31.12832014\n",
      "  39.87454898]\n",
      " [61.96859475 64.78082582 59.51463684 ... 35.46542019 30.95687057\n",
      "  39.65492665]\n",
      " [62.33946478 65.16852651 59.87082041 ... 35.67767386 31.14214144\n",
      "  39.8922537 ]\n",
      " ...\n",
      " [62.47548901 65.31072373 60.00145807 ... 35.75552227 31.21009335\n",
      "  39.97929829]\n",
      " [62.43686506 65.27034696 59.96436363 ... 35.73341728 31.19079847\n",
      "  39.95458205]\n",
      " [62.47166007 65.30672102 59.99778075 ... 35.75333091 31.20818057\n",
      "  39.97684807]], shape=(100, 300), dtype=float64)\n"
     ]
    }
   ],
   "source": [
    "print (mean)"
   ]
  },
  {
   "cell_type": "code",
   "execution_count": 46,
   "metadata": {},
   "outputs": [
    {
     "name": "stdout",
     "output_type": "stream",
     "text": [
      "tf.Tensor(\n",
      "[[62.3117977  65.13960385 59.84424894 ... 35.66183963 31.12832014\n",
      "  39.87454898]\n",
      " [61.96859475 64.78082582 59.51463684 ... 35.46542019 30.95687057\n",
      "  39.65492665]\n",
      " [62.33946478 65.16852651 59.87082041 ... 35.67767386 31.14214144\n",
      "  39.8922537 ]\n",
      " ...\n",
      " [62.47548901 65.31072373 60.00145807 ... 35.75552227 31.21009335\n",
      "  39.97929829]\n",
      " [62.43686506 65.27034696 59.96436363 ... 35.73341728 31.19079847\n",
      "  39.95458205]\n",
      " [62.47166007 65.30672102 59.99778075 ... 35.75333091 31.20818057\n",
      "  39.97684807]], shape=(100, 300), dtype=float64)\n"
     ]
    }
   ],
   "source": [
    "print(mean2)"
   ]
  },
  {
   "cell_type": "code",
   "execution_count": 47,
   "metadata": {},
   "outputs": [
    {
     "data": {
      "text/plain": [
       "tensorflow.python.framework.ops.EagerTensor"
      ]
     },
     "execution_count": 47,
     "metadata": {},
     "output_type": "execute_result"
    }
   ],
   "source": [
    "type(mean)"
   ]
  },
  {
   "cell_type": "code",
   "execution_count": 48,
   "metadata": {},
   "outputs": [
    {
     "data": {
      "text/plain": [
       "array([[62.3117977 , 65.13960385, 59.84424894, ..., 35.66183963,\n",
       "        31.12832014, 39.87454898],\n",
       "       [61.96859475, 64.78082582, 59.51463684, ..., 35.46542019,\n",
       "        30.95687057, 39.65492665],\n",
       "       [62.33946478, 65.16852651, 59.87082041, ..., 35.67767386,\n",
       "        31.14214144, 39.8922537 ],\n",
       "       ...,\n",
       "       [62.47548901, 65.31072373, 60.00145807, ..., 35.75552227,\n",
       "        31.21009335, 39.97929829],\n",
       "       [62.43686506, 65.27034696, 59.96436363, ..., 35.73341728,\n",
       "        31.19079847, 39.95458205],\n",
       "       [62.47166007, 65.30672102, 59.99778075, ..., 35.75333091,\n",
       "        31.20818057, 39.97684807]])"
      ]
     },
     "execution_count": 48,
     "metadata": {},
     "output_type": "execute_result"
    }
   ],
   "source": [
    "import tensorflow as tf\n",
    "gpflow_means = mean2.numpy()#converting eager tensor to numpy array\n",
    "gpflow_means"
   ]
  },
  {
   "cell_type": "code",
   "execution_count": 49,
   "metadata": {},
   "outputs": [
    {
     "data": {
      "text/plain": [
       "(100, 300)"
      ]
     },
     "execution_count": 49,
     "metadata": {},
     "output_type": "execute_result"
    }
   ],
   "source": [
    "gpflow_means.shape"
   ]
  },
  {
   "cell_type": "code",
   "execution_count": 50,
   "metadata": {},
   "outputs": [
    {
     "data": {
      "text/plain": [
       "array([ 62.3117977 ,  65.13960385,  59.84424894,  60.02175367,\n",
       "        52.52526374,  39.21952805,  41.96040993,  39.48863281,\n",
       "        46.94383154,  52.5850648 ,  48.95159673,  44.12736776,\n",
       "        44.09705194,  40.50724419,  41.46931638,  43.22619902,\n",
       "        23.57520851,  45.67100703,  51.44884467,  46.88403048,\n",
       "        25.67458812,  29.26745053,  13.33563622,  91.6307268 ,\n",
       "        51.49369546,  53.53025376,  40.02883572,  37.20480188,\n",
       "        33.63464579,  36.7178504 ,  31.689578  ,  31.50997548,\n",
       "        30.03575546,  32.55791153,  34.929158  ,  42.12763141,\n",
       "        39.86531075,  27.85732678,  29.366788  ,  25.51369479,\n",
       "        21.27109771,  24.34899797,  27.40157022,  28.48822796,\n",
       "        29.19288377,  27.12050967,  39.24020925,  52.7694514 ,\n",
       "        51.19967359,  45.75666977,  40.95438169,  43.74487354,\n",
       "        39.24506808,  29.63602496,  26.0724645 ,  30.61775901,\n",
       "        41.25151821,  36.07178538,  21.65736402,  12.24657628,\n",
       "        11.6255804 ,  14.28225454,  16.05695356,  25.59379307,\n",
       "        36.80188901,  38.56430039,  43.60456992,  39.76438214,\n",
       "        35.03577949,  35.00936736,  34.80248314,  34.97863626,\n",
       "        28.23540237,  33.1623452 ,  38.02660002,  44.03403789,\n",
       "        46.39827801,  70.41574731,  43.48434026,  78.54619966,\n",
       "        40.11227243,  42.85397576,  43.87979393,  44.53982895,\n",
       "        40.20583024,  46.05346021,  44.66759439,  41.00909193,\n",
       "        63.2562316 ,  65.3042901 ,  57.1494637 ,  42.19013351,\n",
       "        38.60097972,  38.63273015,  42.03800892,  35.25591384,\n",
       "        29.40883204,  23.24046352,  28.23126797,  27.71541792,\n",
       "        31.51037416,  47.60934484,  37.15358833,  27.28887304,\n",
       "        21.12407418,  24.30539303,  20.60459736,  13.80540676,\n",
       "         8.49269964,   7.81040594,   8.22663239,  18.79970884,\n",
       "        21.8218495 ,  32.68263801,  28.37925714,  26.52402037,\n",
       "        38.13854084,  21.01971638,  29.86464901,  26.3149578 ,\n",
       "        22.9313611 ,  21.95604952,  24.73770486,  26.06979512,\n",
       "        34.82233804,  62.13055112,  67.42037869,  69.76176905,\n",
       "        87.63538566,  77.29184688,  99.47435555,  47.87225808,\n",
       "        65.31096473,  91.26139989,  84.72506744,  97.62001934,\n",
       "        95.74087298,  89.51257486, 109.97479104,  59.45293169,\n",
       "        38.41900932,  43.35434415,  41.87070834,  36.79548686,\n",
       "        36.95188664,  44.8236625 ,  46.95569683,  48.94954008,\n",
       "        59.17912827,  94.27936001, 108.81991091,  89.99501279,\n",
       "        82.73476552, 103.46515638,  83.96290209,  77.77946465,\n",
       "        69.34974812,  73.67707174,  70.34918303,  62.51773598,\n",
       "        88.33536472, 105.66681061,  81.77296515,  50.21103941,\n",
       "        42.56888571,  48.76377711,  33.67938705,  25.81523135,\n",
       "        25.7355392 ,  28.06190935,  24.93738541,  23.79085475,\n",
       "        27.25297365,  34.16702591,  36.71405351,  32.30947231,\n",
       "        22.85175664,  28.69985726,  27.98559572,  20.12565649,\n",
       "        28.15799322,  43.63234788,  42.20369151,  34.74042871,\n",
       "        33.93675746,  34.05961026,  32.65874517,  33.76116469,\n",
       "        30.51107917,  34.30124688,  20.12784053,  21.68585746,\n",
       "        19.33391698,  15.8838258 ,  18.72485073,  19.55973047,\n",
       "        20.40889127,  41.75110622,  32.12963579,  28.85110411,\n",
       "        24.52840115,  28.76198392,  35.40322378,  36.13709011,\n",
       "        40.18204033,  47.01235358,  44.72512557,  40.2299761 ,\n",
       "        45.48461186,  60.25953407,  36.11776338,  29.62145803,\n",
       "        33.95435145,  24.21680616,  24.12118441,  25.53629817,\n",
       "        22.29662562,  29.49687249,  25.53242946,  25.78422339,\n",
       "        35.64701276,  34.45537699,  49.27652589,  47.25413259,\n",
       "        41.7417824 ,  35.32544549,  26.70117297,  32.34738965,\n",
       "        42.94393802,  58.81090496,  47.06948495,  41.47004124,\n",
       "        47.28078751,  53.3513157 ,  45.95293441,  39.84672725,\n",
       "        39.87360213,  43.17778864,  35.28987359,  29.5013022 ,\n",
       "        25.34603825,  26.30431139,  24.68627595,  28.7055576 ,\n",
       "        27.86138735,  31.93110783,  36.43767136,  36.26303012,\n",
       "        39.62816862,  32.098034  ,  25.78573352,  31.60070698,\n",
       "        42.42885156,  40.35758417,  18.91316835,  30.91657812,\n",
       "        24.08778362,  33.20952159,  41.36399403,  29.06693912,\n",
       "        29.83629887,  15.34893855,  23.86062265,  24.30873192,\n",
       "        28.22817641,  31.60294313,  31.31969737,  26.96220934,\n",
       "        28.39055289,  27.37086817,  33.16488746,  32.31630259,\n",
       "        27.50848727,  23.74962826,  34.9962699 ,  46.87887521,\n",
       "        52.17425752,  76.63159074,  84.72599841,  52.49052217,\n",
       "        34.25347722,  25.02205303,  25.6160731 ,  23.52563948,\n",
       "        23.68778301,  27.18439302,  32.0852063 ,  35.51836249,\n",
       "        42.42820854,  36.94325439,  35.85345327,  34.53618923,\n",
       "        53.38075111,  63.69630606,  56.31717297,  58.41054227,\n",
       "        64.30664195,  35.66183963,  31.12832014,  39.87454898])"
      ]
     },
     "execution_count": 50,
     "metadata": {},
     "output_type": "execute_result"
    }
   ],
   "source": [
    "gpflow_means[0]"
   ]
  },
  {
   "cell_type": "code",
   "execution_count": 51,
   "metadata": {},
   "outputs": [],
   "source": [
    "from gpflow import set_trainable\n",
    "set_trainable(m.kernel.kernels[0].lengthscales, False) "
   ]
  },
  {
   "cell_type": "code",
   "execution_count": 52,
   "metadata": {},
   "outputs": [
    {
     "data": {
      "text/plain": [
       "'\\ndef objective_closure():\\n    print(m.log_marginal_likelihood())\\n    return - m.log_marginal_likelihood()\\n\\nopt_logs = opt.minimize(objective_closure,\\n                        m.trainable_variables,\\n                        options=dict(maxiter=100))\\n                        '"
      ]
     },
     "execution_count": 52,
     "metadata": {},
     "output_type": "execute_result"
    }
   ],
   "source": [
    "opt = gpflow.optimizers.Scipy()\n",
    "'''\n",
    "def objective_closure():\n",
    "    print(m.log_marginal_likelihood())\n",
    "    return - m.log_marginal_likelihood()\n",
    "\n",
    "opt_logs = opt.minimize(objective_closure,\n",
    "                        m.trainable_variables,\n",
    "                        options=dict(maxiter=100))\n",
    "                        '''"
   ]
  },
  {
   "cell_type": "code",
   "execution_count": null,
   "metadata": {},
   "outputs": [],
   "source": []
  }
 ],
 "metadata": {
  "kernelspec": {
   "display_name": "Python 3",
   "language": "python",
   "name": "python3"
  },
  "language_info": {
   "codemirror_mode": {
    "name": "ipython",
    "version": 3
   },
   "file_extension": ".py",
   "mimetype": "text/x-python",
   "name": "python",
   "nbconvert_exporter": "python",
   "pygments_lexer": "ipython3",
   "version": "3.7.7"
  }
 },
 "nbformat": 4,
 "nbformat_minor": 4
}
